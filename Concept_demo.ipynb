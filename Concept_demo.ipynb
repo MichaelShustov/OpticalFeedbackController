{
 "cells": [
  {
   "cell_type": "code",
   "execution_count": 11,
   "metadata": {},
   "outputs": [],
   "source": [
    "import MovementSimulator_0_1 as ms\n",
    "import cv2\n",
    "import path_tracking_ini_functions as ptif\n",
    "import time\n",
    "import math\n",
    "import numpy as np"
   ]
  },
  {
   "cell_type": "code",
   "execution_count": 17,
   "metadata": {},
   "outputs": [],
   "source": [
    "from random import gauss\n",
    "def reaction_f(action):\n",
    "    x_a,y_a,f_a = action\n",
    "    \n",
    "    rx = gauss(0,1)/1.3\n",
    "    ry = gauss(0,1)/1.3\n",
    "    \n",
    "    x_re = (x_a + ry*y_a) * f_a\n",
    "    y_re = (y_a - rx*x_a) * f_a\n",
    "    \n",
    "    return x_re, y_re\n",
    "\n",
    "def reaction_0(action):\n",
    "    \n",
    "    return 0,0"
   ]
  },
  {
   "cell_type": "code",
   "execution_count": 5,
   "metadata": {},
   "outputs": [],
   "source": [
    "def generate_field_example():\n",
    "    particle1 = ms.SimulatedParticleClass((30,30),reaction_f,25)\n",
    "\n",
    "    \n",
    "    target1 = ms.SimulatedTargetsClass((125,75), reaction_0,20)\n",
    "    target2 = ms.SimulatedTargetsClass((180,250),reaction_0, 30)\n",
    "    target3 = ms.SimulatedTargetsClass((330,310), reaction_0,25)\n",
    "    target4 = ms.SimulatedTargetsClass((200,200), reaction_0,20)\n",
    "    target5 = ms.SimulatedTargetsClass((300,100),reaction_0, 30)\n",
    "    target6 = ms.SimulatedTargetsClass((300,40), reaction_0,25)\n",
    "    \n",
    "    particles_dict = {'p1':particle1}\n",
    "    targets_dist = {'t1':target1, 't2':target2, 't3':target3, 't4':target4, 't5':target5, 't6':target6}\n",
    "    borders = (0,0,480,640)\n",
    "    \n",
    "    RealField = ms.SimulatedFieldClass(particles_dict,targets_dist,borders)\n",
    "    return RealField"
   ]
  },
  {
   "cell_type": "code",
   "execution_count": 6,
   "metadata": {},
   "outputs": [],
   "source": [
    "def vector_len(x,y):\n",
    "    length = math.sqrt(x**2 + y**2)\n",
    "    return length"
   ]
  },
  {
   "cell_type": "code",
   "execution_count": 7,
   "metadata": {},
   "outputs": [],
   "source": [
    "def show_path(image, path):\n",
    "    \n",
    "    for i in range(len(path)-1):\n",
    "        image = cv2.line(image,path[i],path[i+1],(150,150,150))\n",
    "    return image"
   ]
  },
  {
   "cell_type": "code",
   "execution_count": 18,
   "metadata": {},
   "outputs": [
    {
     "name": "stdout",
     "output_type": "stream",
     "text": [
      "(0, 0, 640, 480)\n",
      "Left click on the ActiveParticle. When done, please press any key\n",
      "(26, 32)\n",
      "Left click on the Target. When done, please press any key\n",
      "(579, 212)\n",
      "6\n",
      "-1\n"
     ]
    }
   ],
   "source": [
    "# main tracker-controller cell\n",
    "\n",
    "\n",
    "RF = generate_field_example()\n",
    "image = RF.generate_image(width = 640, height = 480)\n",
    "kernel = np.ones((5,5),np.float32)/25\n",
    "image = cv2.filter2D(image,-1,kernel)\n",
    "\n",
    "# cv2.imshow(\"Tracking\", image)\n",
    "\n",
    "# cv2.waitKey(0)\n",
    "# cv2.destroyAllWindows()\n",
    "\n",
    "tracking = ptif.PathFinderAutoClass(image)\n",
    "path, bound = tracking.initiate_path_tracking(compress = False)\n",
    "\n",
    "tracker = cv2.legacy.TrackerCSRT_create()\n",
    "ok = tracker.init(image, bound)\n",
    "\n",
    "# if the path was found\n",
    "if len(path)>0:\n",
    "    # current particle coordinates\n",
    "    x1,y1 = (bound[0]+bound[2]//2, bound[1]+bound[3]//2)\n",
    "    path_point = 0\n",
    "    \n",
    "    time_step = 4\n",
    "    force = 500 \n",
    "    \n",
    "    stop = False\n",
    "        \n",
    "    while stop != True:\n",
    "        \n",
    "        x_p,y_p = path[path_point]\n",
    "        \n",
    "        action_x, action_y = (x_p - x1,y_p - y1)\n",
    "        action_x_n, action_y_n = (action_x/vector_len(action_x, action_y),action_y/vector_len(action_x, action_y))\n",
    "        action = (action_x_n,action_y_n,force)\n",
    "        \n",
    "        \n",
    "        if vector_len(action_x, action_y) < 7:\n",
    "            path_point = path_point + 1\n",
    "        if (path_point > (len(path)-1)):\n",
    "            stop = True\n",
    " \n",
    "        for i in range(5):\n",
    "            ok = RF.next_time_step(action, time_step)\n",
    "        \n",
    "        if ok > 0:\n",
    "            stop = True\n",
    "                       \n",
    "        image = RF.generate_image(width = 640, height = 480)\n",
    "        image = cv2.filter2D(image,-1,kernel)\n",
    "        ok, bound = tracker.update(image)\n",
    "        \n",
    "        if ok:\n",
    "            p1 = (int(bound[0]), int(bound[1]))\n",
    "            p2 = (int(bound[0] + bound[2]), int(bound[1] + bound[3]))\n",
    "            image = cv2.rectangle(image, p1, p2, (150,150,150), 2, 1)\n",
    "                   \n",
    "        x1,y1 = (bound[0]+bound[2]//2, bound[1]+bound[3]//2)\n",
    "        \n",
    "    \n",
    "        \n",
    "        image = show_path(image, path)\n",
    "        cv2.imshow(\"Tracking\", image)\n",
    "        cv2.waitKey(200)\n",
    "else:\n",
    "    print('No path was found')\n",
    "        \n",
    "cv2.waitKey(0)\n",
    "cv2.destroyAllWindows()    \n",
    "    \n",
    "    \n",
    "    \n",
    "    "
   ]
  },
  {
   "cell_type": "code",
   "execution_count": 10,
   "metadata": {},
   "outputs": [
    {
     "name": "stdout",
     "output_type": "stream",
     "text": [
      "28 28\n",
      "28 288\n",
      "104 288\n",
      "104 296\n",
      "108 296\n",
      "108 308\n",
      "112 308\n",
      "112 312\n",
      "116 312\n",
      "116 316\n",
      "120 316\n",
      "120 320\n",
      "136 320\n",
      "136 324\n",
      "260 324\n",
      "260 360\n",
      "264 360\n",
      "264 368\n",
      "268 368\n",
      "268 372\n",
      "276 372\n",
      "276 376\n",
      "504 376\n",
      "504 388\n"
     ]
    }
   ],
   "source": [
    "show_path(image,path)"
   ]
  },
  {
   "cell_type": "code",
   "execution_count": null,
   "metadata": {},
   "outputs": [],
   "source": []
  }
 ],
 "metadata": {
  "kernelspec": {
   "display_name": "Python 3",
   "language": "python",
   "name": "python3"
  },
  "language_info": {
   "codemirror_mode": {
    "name": "ipython",
    "version": 3
   },
   "file_extension": ".py",
   "mimetype": "text/x-python",
   "name": "python",
   "nbconvert_exporter": "python",
   "pygments_lexer": "ipython3",
   "version": "3.8.5"
  }
 },
 "nbformat": 4,
 "nbformat_minor": 4
}
