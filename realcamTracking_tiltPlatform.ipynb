{
 "cells": [
  {
   "cell_type": "code",
   "execution_count": 1,
   "metadata": {},
   "outputs": [],
   "source": [
    "import MovementSimulator_0_1 as ms\n",
    "import cv2\n",
    "import path_tracking_ini_functions as ptif\n",
    "import time\n",
    "import math\n",
    "import numpy\n",
    "import tiltplatform as tp\n",
    "import pidcontrol"
   ]
  },
  {
   "cell_type": "code",
   "execution_count": 9,
   "metadata": {},
   "outputs": [
    {
     "name": "stdout",
     "output_type": "stream",
     "text": [
      "Select object to track on the image\n",
      "Tracker initiated\n",
      "(1, 1)\n",
      "(1, 1)\n",
      "(1, 1)\n",
      "(1, 1)\n",
      "(1, 1)\n",
      "(1, 1)\n",
      "(1, 1)\n",
      "(1, 1)\n",
      "(1, 1)\n",
      "(1, 1)\n",
      "(1, 1)\n",
      "(1, 1)\n",
      "(1, 1)\n",
      "(1, 1)\n",
      "(1, 1)\n",
      "(1, 1)\n",
      "(1, 1)\n",
      "(1, 1)\n",
      "(1, 1)\n",
      "(1, 1)\n",
      "(1, 1)\n",
      "(1, 1)\n",
      "(1, 1)\n",
      "(1, 1)\n",
      "(1, 1)\n",
      "port released\n"
     ]
    }
   ],
   "source": [
    "# main tracker-controller cell\n",
    "\n",
    "\n",
    "# ini the tilt platform\n",
    "platform = tp.TiltPlatformClass(port_name = 'COM5', x_channel = 3, y_channel = 5, \n",
    "                 x_range_tup = (75,105), y_range_tup = (60,105))\n",
    "platform.move('x',99)\n",
    "platform.move('y',99)\n",
    "time.sleep(5)\n",
    "\n",
    "\n",
    "# take initial image from the camera and mask the ROI\n",
    "cap0 = cv2.VideoCapture(0)\n",
    "ret0, image = cap0.read()\n",
    "image = cv2.cvtColor(image, cv2.COLOR_BGR2GRAY)\n",
    "image = ptif.image_aspect_ratio43(image = image, compress640 = True)\n",
    "roi = cv2.selectROI(image)\n",
    "image = ptif.keep_roi_only(image,roi,255)\n",
    "\n",
    "# ini the tracker\n",
    "tracker = ptif.CSRTTrackerClass(image, object_bound_rect = (0,0,0,0))\n",
    "ok, bound = tracker.track(image)\n",
    "current_pos = (bound[0]+bound[2]//2, bound[1]+bound[3]//2)\n",
    "\n",
    "\n",
    "\n",
    "\n",
    "# set temporal setpoint to the center of ROI\n",
    "path = [(roi[0]+roi[2]//2, roi[1]+roi[3]//2)]\n",
    "target = path[0]\n",
    "\n",
    "# initialize the PID controlers for 2 directions\n",
    "pid_x = pidcontrol.PIDClass((0,0,0), target[0], (1,99), integration_samples = 5, diff_filter_samples = 4)\n",
    "pid_y = pidcontrol.PIDClass((0,0,0), target[1], (1,99), integration_samples = 5, diff_filter_samples = 4)\n",
    "\n",
    "t_Kp_x = -2.5\n",
    "t_Kp_y = 0.6\n",
    "k_i = 1\n",
    "steps_k = 50\n",
    "coefs_x = ((t_Kp_x/steps_k)*k_i ,0,0)\n",
    "coefs_y = ((t_Kp_y/steps_k)*k_i ,0,0)\n",
    "pid_x.set_coefs(coefs_x)\n",
    "pid_y.set_coefs(coefs_y)\n",
    "\n",
    "# run the main loop\n",
    "stop = False\n",
    "start_time = time.time_ns() // 1000000\n",
    "\n",
    "while stop != True:\n",
    "    \n",
    "    # get new image\n",
    "    ret0, image = cap0.read()\n",
    "    image = cv2.cvtColor(image, cv2.COLOR_BGR2GRAY)\n",
    "    image = ptif.image_aspect_ratio43(image = image, compress640 = True)\n",
    "    image = ptif.keep_roi_only(image,roi,255)\n",
    "    \n",
    "    # track the particle\n",
    "    ok, bound = tracker.track(image)\n",
    "    current_pos = (bound[0]+bound[2]//2, bound[1]+bound[3]//2)\n",
    "    \n",
    "    # show picture\n",
    "    p1 = (int(bound[0]), int(bound[1]))\n",
    "    p2 = (int(bound[0] + bound[2]), int(bound[1] + bound[3]))\n",
    "    image = cv2.rectangle(image, p1, p2, (150,150,150), 2, 1) \n",
    "    image = cv2.circle(image, target, 10, (150,150,150), 2)\n",
    "    cv2.imshow(\"Tracking\", image)\n",
    "        \n",
    "    # get new values from PID control\n",
    "    actual_time = time.time_ns() // 1000000 - start_time\n",
    "    action_x = int(pid_x.control(actual_time, current_pos[0]))\n",
    "    action_y = int(pid_y.control(actual_time, current_pos[1]))\n",
    "    print(str((action_x,action_y)))\n",
    "    \n",
    "    # set new action values to the platform\n",
    "    platform.move('x',action_x)\n",
    "    platform.move('y',action_y)\n",
    "    \n",
    "    \n",
    "    #slowly change PID coefficients\n",
    "    if k_i  < 20:\n",
    "        coefs_x = ((t_Kp_x/steps_k)*k_i ,0,0)\n",
    "        coefs_y = ((t_Kp_y/steps_k)*k_i ,0,0)\n",
    "        k_i  = k_i  + 1\n",
    "        pid_x.set_coefs(coefs_x)\n",
    "        pid_y.set_coefs(coefs_y)\n",
    "        \n",
    "    \n",
    "    \n",
    "    k = cv2.waitKey(500)\n",
    "    if k == 27:\n",
    "        # Esc\n",
    "        stop = True\n",
    "    elif k == 32:\n",
    "        # space\n",
    "        new_K_x = input(\"New K_x:\")\n",
    "        new_K_y = input(\"New K_y:\")\n",
    "        coefs_x = (float(new_K_x),0,0)\n",
    "        coefs_y = (float(new_K_y),0,0)\n",
    "        pid_x.set_coefs(coefs_x)\n",
    "        pid_y.set_coefs(coefs_y)\n",
    "        tracker.restart_tracker(image, object_bound_rect = (0,0,0,0))\n",
    "    elif k == 13:\n",
    "        #delete - reset tracker\n",
    "        pass\n",
    "        \n",
    "        \n",
    "\n",
    "        \n",
    "cv2.waitKey(0)\n",
    "cv2.destroyAllWindows()  \n",
    "platform.close_serial()\n"
   ]
  },
  {
   "cell_type": "code",
   "execution_count": 37,
   "metadata": {},
   "outputs": [],
   "source": [
    "img = numpy.ones((480,640,1),numpy.uint8)*255\n",
    "cv2.imshow('image',img)\n",
    "cv2.waitKey(0)\n",
    "cv2.destroyAllWindows()"
   ]
  },
  {
   "cell_type": "code",
   "execution_count": 10,
   "metadata": {},
   "outputs": [],
   "source": [
    "import tiltplatform as tp\n",
    "platform = tp.TiltPlatformClass(port_name = 'COM5', x_channel = 3, y_channel = 5, \n",
    "                 x_range_tup = (0,180), y_range_tup = (0,180))\n",
    "platform.move('x',50)\n",
    "# platform.move('y',50)"
   ]
  },
  {
   "cell_type": "code",
   "execution_count": 12,
   "metadata": {},
   "outputs": [],
   "source": [
    "platform.move('x',0)"
   ]
  },
  {
   "cell_type": "markdown",
   "metadata": {},
   "source": [
    "#### platform.close_serial()"
   ]
  },
  {
   "cell_type": "code",
   "execution_count": 9,
   "metadata": {},
   "outputs": [
    {
     "data": {
      "text/plain": [
       "(224, 167, 266, 259)"
      ]
     },
     "execution_count": 9,
     "metadata": {},
     "output_type": "execute_result"
    }
   ],
   "source": [
    "roi"
   ]
  },
  {
   "cell_type": "code",
   "execution_count": 1,
   "metadata": {},
   "outputs": [
    {
     "ename": "TypeError",
     "evalue": "__init__() should return None, not 'tuple'",
     "output_type": "error",
     "traceback": [
      "\u001b[1;31m---------------------------------------------------------------------------\u001b[0m",
      "\u001b[1;31mTypeError\u001b[0m                                 Traceback (most recent call last)",
      "\u001b[1;32m<ipython-input-1-209ad50eced1>\u001b[0m in \u001b[0;36m<module>\u001b[1;34m\u001b[0m\n\u001b[0;32m      4\u001b[0m         \u001b[1;32mreturn\u001b[0m \u001b[0mself\u001b[0m\u001b[1;33m,\u001b[0m \u001b[0mk\u001b[0m\u001b[1;33m\u001b[0m\u001b[1;33m\u001b[0m\u001b[0m\n\u001b[0;32m      5\u001b[0m \u001b[1;33m\u001b[0m\u001b[0m\n\u001b[1;32m----> 6\u001b[1;33m \u001b[0mt\u001b[0m \u001b[1;33m=\u001b[0m \u001b[0mTest\u001b[0m\u001b[1;33m(\u001b[0m\u001b[1;33m)\u001b[0m\u001b[1;33m\u001b[0m\u001b[1;33m\u001b[0m\u001b[0m\n\u001b[0m",
      "\u001b[1;31mTypeError\u001b[0m: __init__() should return None, not 'tuple'"
     ]
    }
   ],
   "source": [
    "class Test():\n",
    "    def __init__(self):\n",
    "        k = 1\n",
    "        return self, k\n",
    "\n",
    "t = Test()"
   ]
  },
  {
   "cell_type": "code",
   "execution_count": 16,
   "metadata": {},
   "outputs": [],
   "source": [
    "platform = tp.TiltPlatformClass(port_name = 'COM5', x_channel = 3, y_channel = 5, \n",
    "                 x_range_tup = (65,90), y_range_tup = (80,100))\n"
   ]
  },
  {
   "cell_type": "code",
   "execution_count": 23,
   "metadata": {},
   "outputs": [
    {
     "name": "stdout",
     "output_type": "stream",
     "text": [
      "ok\n"
     ]
    }
   ],
   "source": [
    "platform.move('x',100)"
   ]
  },
  {
   "cell_type": "code",
   "execution_count": 29,
   "metadata": {},
   "outputs": [
    {
     "name": "stdout",
     "output_type": "stream",
     "text": [
      "port released\n"
     ]
    }
   ],
   "source": [
    "platform.close_serial()"
   ]
  },
  {
   "cell_type": "code",
   "execution_count": 5,
   "metadata": {},
   "outputs": [],
   "source": [
    "ms = time.time_ns() // 1_000_000"
   ]
  },
  {
   "cell_type": "code",
   "execution_count": 6,
   "metadata": {},
   "outputs": [
    {
     "data": {
      "text/plain": [
       "1628110292049"
      ]
     },
     "execution_count": 6,
     "metadata": {},
     "output_type": "execute_result"
    }
   ],
   "source": [
    "ms"
   ]
  },
  {
   "cell_type": "code",
   "execution_count": 9,
   "metadata": {},
   "outputs": [],
   "source": [
    "ms1 = time.time_ns() // 1000000"
   ]
  },
  {
   "cell_type": "code",
   "execution_count": 10,
   "metadata": {},
   "outputs": [
    {
     "data": {
      "text/plain": [
       "49316"
      ]
     },
     "execution_count": 10,
     "metadata": {},
     "output_type": "execute_result"
    }
   ],
   "source": [
    "ms1-ms"
   ]
  },
  {
   "cell_type": "code",
   "execution_count": 11,
   "metadata": {},
   "outputs": [
    {
     "name": "stdout",
     "output_type": "stream",
     "text": [
      "Enter username:(1,2,3)\n"
     ]
    }
   ],
   "source": [
    "username = input(\"Enter username:\")"
   ]
  },
  {
   "cell_type": "code",
   "execution_count": 12,
   "metadata": {},
   "outputs": [
    {
     "data": {
      "text/plain": [
       "str"
      ]
     },
     "execution_count": 12,
     "metadata": {},
     "output_type": "execute_result"
    }
   ],
   "source": [
    "type(username)"
   ]
  },
  {
   "cell_type": "code",
   "execution_count": 13,
   "metadata": {},
   "outputs": [],
   "source": [
    "s = tuple(username)"
   ]
  },
  {
   "cell_type": "code",
   "execution_count": 14,
   "metadata": {},
   "outputs": [
    {
     "data": {
      "text/plain": [
       "tuple"
      ]
     },
     "execution_count": 14,
     "metadata": {},
     "output_type": "execute_result"
    }
   ],
   "source": [
    "type(s)"
   ]
  },
  {
   "cell_type": "code",
   "execution_count": 15,
   "metadata": {},
   "outputs": [
    {
     "data": {
      "text/plain": [
       "('(', '1', ',', '2', ',', '3', ')')"
      ]
     },
     "execution_count": 15,
     "metadata": {},
     "output_type": "execute_result"
    }
   ],
   "source": [
    "s"
   ]
  },
  {
   "cell_type": "code",
   "execution_count": null,
   "metadata": {},
   "outputs": [],
   "source": []
  }
 ],
 "metadata": {
  "kernelspec": {
   "display_name": "Python 3",
   "language": "python",
   "name": "python3"
  },
  "language_info": {
   "codemirror_mode": {
    "name": "ipython",
    "version": 3
   },
   "file_extension": ".py",
   "mimetype": "text/x-python",
   "name": "python",
   "nbconvert_exporter": "python",
   "pygments_lexer": "ipython3",
   "version": "3.8.5"
  }
 },
 "nbformat": 4,
 "nbformat_minor": 4
}
